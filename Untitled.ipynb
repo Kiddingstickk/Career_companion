{
 "cells": [
  {
   "cell_type": "code",
   "execution_count": 2,
   "id": "09e4ddf0-55da-4642-ac6b-7f8fb59f1d58",
   "metadata": {},
   "outputs": [],
   "source": [
    "import json \n",
    "\n",
    "def converter(entry , include_keywords = False):\n",
    "    system_msg = {\n",
    "        'role' : 'system',\n",
    "        'content' : 'You are an expert interview coach helping candidates answer interview questions effectively using the experience , role , level and the source type.'\n",
    "    }  \n",
    "\n",
    "    user_msg = {\n",
    "        'role' : 'user',\n",
    "        'content': f\"Question: {entry['question']}\\nRole: {entry['role']}\\nExperience: {entry['experience']}\\nDifficulty: {entry['difficulty']}\\nSource Type: {entry['source_type']}\"\n",
    "    }\n",
    "\n",
    "    \n",
    "    assistant_msg = {\n",
    "        'role' : 'assistant', \n",
    "        'content' : entry['ideal_answer']\n",
    "    }\n",
    "\n",
    "\n",
    "    messages = [system_msg, user_msg, assistant_msg ]\n",
    "\n",
    "    result = {\"messages\": messages}\n",
    "\n",
    "    if include_keywords and \"keywords\" in entry:\n",
    "        result[\"keywords\"] = entry[\"keywords\"]\n",
    "\n",
    "    return result\n",
    "\n",
    "\n",
    "\n",
    "with open(\"hr_interview_questions_dataset.json\", \"r\") as f:\n",
    "    data = json.load(f)\n",
    "\n",
    "converted = [converter(entry, include_keywords=True) for entry in data]\n",
    "\n",
    "with open(\"converted.json\", \"w\") as f:\n",
    "    json.dump(converted, f, indent=2)\n"
   ]
  },
  {
   "cell_type": "code",
   "execution_count": null,
   "id": "38a13b9a-c97b-46fa-b92f-b649c85603d9",
   "metadata": {},
   "outputs": [],
   "source": []
  }
 ],
 "metadata": {
  "kernelspec": {
   "display_name": "Python 3 (ipykernel)",
   "language": "python",
   "name": "python3"
  },
  "language_info": {
   "codemirror_mode": {
    "name": "ipython",
    "version": 3
   },
   "file_extension": ".py",
   "mimetype": "text/x-python",
   "name": "python",
   "nbconvert_exporter": "python",
   "pygments_lexer": "ipython3",
   "version": "3.12.4"
  }
 },
 "nbformat": 4,
 "nbformat_minor": 5
}
